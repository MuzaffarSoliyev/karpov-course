{
 "cells": [
  {
   "cell_type": "markdown",
   "id": "9d768fcb",
   "metadata": {},
   "source": [
    "## 1\n",
    "Начнём с простого - сохраните в переменную age произвольный возраст, выраженный целым числом, а в переменную name какое-нибудь имя в виде строки"
   ]
  },
  {
   "cell_type": "code",
   "execution_count": 1,
   "id": "4db52816",
   "metadata": {},
   "outputs": [],
   "source": [
    "age = 26\n",
    "name = \"Muzaffar\""
   ]
  },
  {
   "cell_type": "markdown",
   "id": "77ed1c70",
   "metadata": {},
   "source": [
    "Создайте список user_info, содержащий 2 строки (имя и фамилия пользователя), 1 дробное число (зарплата) и 1 целое число (стаж)"
   ]
  },
  {
   "cell_type": "code",
   "execution_count": 2,
   "id": "ffd76089",
   "metadata": {},
   "outputs": [],
   "source": [
    "user_info = [\"Muzaffar\", \"Soliyev\", 15.0, 3]"
   ]
  },
  {
   "cell_type": "markdown",
   "id": "cdb40e20",
   "metadata": {},
   "source": [
    "Добавьте в список users элементы 'Voronov' и 42"
   ]
  },
  {
   "cell_type": "code",
   "execution_count": 5,
   "id": "faf145a0",
   "metadata": {},
   "outputs": [
    {
     "data": {
      "text/plain": [
       "['Name1', 25, 'Voronov', 42]"
      ]
     },
     "execution_count": 5,
     "metadata": {},
     "output_type": "execute_result"
    }
   ],
   "source": [
    "salaries = [10.0, 15.0, 20.0, 35.0, 40.0] \n",
    "first = salaries[0]\n",
    "users = [\"Name1\", 25]\n",
    "users.append(\"Voronov\")\n",
    "users.append(42)\n",
    "users"
   ]
  },
  {
   "cell_type": "markdown",
   "id": "30314eae",
   "metadata": {},
   "source": [
    "В переменной user_ages содержится список возрастов клиентов. Напишите петлю, выводящую на печать возраста, которые больше 18"
   ]
  },
  {
   "cell_type": "code",
   "execution_count": 7,
   "id": "f5d486a8",
   "metadata": {},
   "outputs": [
    {
     "name": "stdout",
     "output_type": "stream",
     "text": [
      "21\n",
      "35\n",
      "42\n",
      "27\n"
     ]
    }
   ],
   "source": [
    "user_ages = [10, 18, 21, 35, 42, 27, 12, 16]\n",
    "for age in user_ages:\n",
    "    if age > 18:\n",
    "        print(age)"
   ]
  },
  {
   "cell_type": "markdown",
   "id": "fa573b7f",
   "metadata": {},
   "source": [
    "Напишите программу, проверяющую стаж работы сотрудника. В переменной worker содержится список, содержащий значения как во 2-ом задании (имя, фамилия, зарплата, стаж). Поместите в переменную status такую строку"
   ]
  },
  {
   "cell_type": "code",
   "execution_count": 10,
   "id": "5be10eca",
   "metadata": {},
   "outputs": [],
   "source": [
    "worker = ['Olya', 'Silyutina', 350000, 3]\n",
    "user_name = worker[0]\n",
    "user_family = worker[1]\n",
    "if worker[3] < 2:\n",
    "    position = \"junior\"\n",
    "elif worker[3] > 5:\n",
    "    position = \"senior\"\n",
    "elif worker[3] >= 2:\n",
    "    position = \"middle\"\n",
    "status = f\"{user_name} {user_family} is {position}\""
   ]
  },
  {
   "cell_type": "markdown",
   "id": "f46d5d04",
   "metadata": {},
   "source": [
    "В списке values содержатся числовые значения. Создайте список tens и добавьте в него все числа из values, которые делятся на 10 нацело"
   ]
  },
  {
   "cell_type": "code",
   "execution_count": 19,
   "id": "f81a14cf",
   "metadata": {},
   "outputs": [
    {
     "data": {
      "text/plain": [
       "[10, 100, 20, 50, 160, 210]"
      ]
     },
     "execution_count": 19,
     "metadata": {},
     "output_type": "execute_result"
    }
   ],
   "source": [
    "values = [12, 134, 10, 47, 100, 20, 50, 160, 210]\n",
    "tens = []\n",
    "for num in values:\n",
    "    if num % 10 == 0:\n",
    "        tens.append(num)\n",
    "tens"
   ]
  },
  {
   "cell_type": "markdown",
   "id": "9a1f07d7",
   "metadata": {},
   "source": [
    "Реализуйте цикл, который пробегается по списку workers со значениями как в 2-ом и 6-ом заданиях, и выводит для каждого сотрудника строку (то есть печатает её для каждого элемента списка)\n",
    "user_name user_family is position\n",
    "где user_name и user_family - имя и фамилия сотрудника, а position - одна из следующих строк\n",
    "'junior' - стаж меньше 2 лет\n",
    "'middle' - стаж больше либо равен 2 лет\n",
    "'senior' - стаж больше 5 лет"
   ]
  },
  {
   "cell_type": "code",
   "execution_count": 20,
   "id": "59b32b0c",
   "metadata": {},
   "outputs": [
    {
     "name": "stdout",
     "output_type": "stream",
     "text": [
      "Ivan Ivanov is middle\n",
      "Petr Petrov is middle\n",
      "Sidor Sidorov is middle\n"
     ]
    }
   ],
   "source": [
    "workers = [['Ivan', 'Ivanov', 100000, 2], ['Petr', 'Petrov', 150000, 2], ['Sidor', 'Sidorov', 200000, 3]]\n",
    "for user_name, user_family, position, experience in workers:\n",
    "    if experience < 2:\n",
    "        position = \"junior\"\n",
    "    elif experience > 5:\n",
    "        position = \"senior\"\n",
    "    elif experience >= 2:\n",
    "        position = \"middle\"\n",
    "    print(f\"{user_name} {user_family} is {position}\")"
   ]
  }
 ],
 "metadata": {
  "kernelspec": {
   "display_name": "Python 3 (ipykernel)",
   "language": "python",
   "name": "python3"
  },
  "language_info": {
   "codemirror_mode": {
    "name": "ipython",
    "version": 3
   },
   "file_extension": ".py",
   "mimetype": "text/x-python",
   "name": "python",
   "nbconvert_exporter": "python",
   "pygments_lexer": "ipython3",
   "version": "3.10.9"
  }
 },
 "nbformat": 4,
 "nbformat_minor": 5
}
